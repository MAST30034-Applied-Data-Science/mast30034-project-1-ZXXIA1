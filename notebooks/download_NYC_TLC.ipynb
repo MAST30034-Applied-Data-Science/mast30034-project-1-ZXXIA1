{
 "cells": [
  {
   "cell_type": "code",
   "execution_count": 4,
   "id": "8cd30559",
   "metadata": {},
   "outputs": [
    {
     "name": "stdout",
     "output_type": "stream",
     "text": [
      "Downloading yellow_tripdata_2021-01.parquet with size 0.02GB\n",
      "Downloading yellow_tripdata_2021-03.parquet with size 0.03GB\n",
      "Downloading yellow_tripdata_2021-05.parquet with size 0.04GB\n",
      "Downloading yellow_tripdata_2021-08.parquet with size 0.04GB\n",
      "Downloading yellow_tripdata_2021-10.parquet with size 0.05GB\n",
      "Downloading yellow_tripdata_2021-12.parquet with size 0.05GB\n"
     ]
    }
   ],
   "source": [
    "from os.path import getsize\n",
    "from urllib.request import urlretrieve\n",
    "save_dir = \"../data/raw/yellow\"\n",
    "fname_template = \"yellow_tripdata_2021\"\n",
    "# The list of times indicates the month and can be selected according to the month\n",
    "a = [1,3,5,8,10,12]\n",
    "for m in a:\n",
    "    months = str(m).zfill(2)\n",
    "    out_put = f'{fname_template}-{months}.parquet'\n",
    "    url = f\"https://d37ci6vzurychx.cloudfront.net/trip-data/{out_put}\"\n",
    "    urlretrieve(url, f\"{save_dir}/{out_put}\")\n",
    "    print(f\"Downloading {out_put} with size {getsize(f'{save_dir}/{out_put}') / 1073741824:.2f}GB\")"
   ]
  },
  {
   "cell_type": "code",
   "execution_count": null,
   "id": "f4507338",
   "metadata": {},
   "outputs": [],
   "source": []
  }
 ],
 "metadata": {
  "kernelspec": {
   "display_name": "Python 3 (ipykernel)",
   "language": "python",
   "name": "python3"
  },
  "language_info": {
   "codemirror_mode": {
    "name": "ipython",
    "version": 3
   },
   "file_extension": ".py",
   "mimetype": "text/x-python",
   "name": "python",
   "nbconvert_exporter": "python",
   "pygments_lexer": "ipython3",
   "version": "3.8.13"
  }
 },
 "nbformat": 4,
 "nbformat_minor": 5
}
